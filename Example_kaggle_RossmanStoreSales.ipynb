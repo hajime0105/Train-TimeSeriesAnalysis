{
 "cells": [
  {
   "cell_type": "markdown",
   "id": "9bb4523d",
   "metadata": {},
   "source": [
    "# Data \n",
    "https://www.kaggle.com/competitions/rossmann-store-sales/overview"
   ]
  },
  {
   "cell_type": "markdown",
   "id": "16602ebf",
   "metadata": {},
   "source": [
    "# Import"
   ]
  },
  {
   "cell_type": "markdown",
   "id": "e2921e9e",
   "metadata": {},
   "source": [
    "## Import Library"
   ]
  },
  {
   "cell_type": "code",
   "execution_count": 19,
   "id": "b79d2b83",
   "metadata": {
    "ExecuteTime": {
     "end_time": "2022-08-28T18:04:43.811003Z",
     "start_time": "2022-08-28T18:04:43.799861Z"
    }
   },
   "outputs": [
    {
     "ename": "ModuleNotFoundError",
     "evalue": "No module named 'seaborn'",
     "output_type": "error",
     "traceback": [
      "\u001b[0;31m---------------------------------------------------------------------------\u001b[0m",
      "\u001b[0;31mModuleNotFoundError\u001b[0m                       Traceback (most recent call last)",
      "\u001b[0;32m<ipython-input-19-16a50b5362f9>\u001b[0m in \u001b[0;36m<module>\u001b[0;34m\u001b[0m\n\u001b[1;32m      3\u001b[0m \u001b[0;32mimport\u001b[0m \u001b[0mpandas\u001b[0m \u001b[0;32mas\u001b[0m \u001b[0mpd\u001b[0m\u001b[0;34m\u001b[0m\u001b[0;34m\u001b[0m\u001b[0m\n\u001b[1;32m      4\u001b[0m \u001b[0;32mimport\u001b[0m \u001b[0mpmdarima\u001b[0m \u001b[0;32mas\u001b[0m \u001b[0mpm\u001b[0m\u001b[0;34m\u001b[0m\u001b[0;34m\u001b[0m\u001b[0m\n\u001b[0;32m----> 5\u001b[0;31m \u001b[0;32mimport\u001b[0m \u001b[0mseaborn\u001b[0m \u001b[0;32mas\u001b[0m \u001b[0msns\u001b[0m\u001b[0;34m\u001b[0m\u001b[0;34m\u001b[0m\u001b[0m\n\u001b[0m\u001b[1;32m      6\u001b[0m \u001b[0;32mfrom\u001b[0m \u001b[0mpmdarima\u001b[0m \u001b[0;32mimport\u001b[0m \u001b[0mdatasets\u001b[0m\u001b[0;34m\u001b[0m\u001b[0;34m\u001b[0m\u001b[0m\n\u001b[1;32m      7\u001b[0m \u001b[0;32mfrom\u001b[0m \u001b[0mpmdarima\u001b[0m \u001b[0;32mimport\u001b[0m \u001b[0mutils\u001b[0m\u001b[0;34m\u001b[0m\u001b[0;34m\u001b[0m\u001b[0m\n",
      "\u001b[0;31mModuleNotFoundError\u001b[0m: No module named 'seaborn'"
     ]
    }
   ],
   "source": [
    "# ライブラリーの読み込み\n",
    "import numpy as np\n",
    "import pandas as pd\n",
    "import pmdarima as pm\n",
    "import seaborn as sns\n",
    "from pmdarima import datasets\n",
    "from pmdarima import utils\n",
    "from pmdarima import arima\n",
    "from pmdarima import model_selection\n",
    "from sklearn.metrics import mean_absolute_error\n",
    "from statistics import mean \n",
    "from matplotlib import pyplot as plt\n",
    "# グラフのスタイルとサイズ\n",
    "plt.style.use('ggplot')\n",
    "plt.rcParams['figure.figsize'] = [12, 9]\n",
    "\n",
    "from statsmodels.tsa.arima.model import ARIMA"
   ]
  },
  {
   "cell_type": "markdown",
   "id": "559905da",
   "metadata": {},
   "source": [
    "## Import Data"
   ]
  },
  {
   "cell_type": "code",
   "execution_count": 2,
   "id": "fd669eb6",
   "metadata": {
    "ExecuteTime": {
     "end_time": "2022-08-28T17:48:54.460926Z",
     "start_time": "2022-08-28T17:48:54.341851Z"
    }
   },
   "outputs": [
    {
     "name": "stdout",
     "output_type": "stream",
     "text": [
      "sample_submission.csv  store.csv  test.csv  train.csv\r\n"
     ]
    }
   ],
   "source": [
    "!ls data/rossman-store-sales/"
   ]
  },
  {
   "cell_type": "code",
   "execution_count": 3,
   "id": "0399b831",
   "metadata": {
    "ExecuteTime": {
     "end_time": "2022-08-28T17:48:54.930744Z",
     "start_time": "2022-08-28T17:48:54.484348Z"
    }
   },
   "outputs": [
    {
     "name": "stderr",
     "output_type": "stream",
     "text": [
      "<ipython-input-3-4d2c62b36edd>:2: DtypeWarning: Columns (7) have mixed types. Specify dtype option on import or set low_memory=False.\n",
      "  df_train = pd.read_csv('./data/rossman-store-sales/train.csv', encoding='utf-8')\n"
     ]
    }
   ],
   "source": [
    "# データの読み込み\n",
    "df_train = pd.read_csv('./data/rossman-store-sales/train.csv', encoding='utf-8')\n",
    "df_test = pd.read_csv('./data/rossman-store-sales/test.csv')\n",
    "df_store = pd.read_csv('./data/rossman-store-sales/store.csv')"
   ]
  },
  {
   "cell_type": "code",
   "execution_count": 4,
   "id": "a5da3910",
   "metadata": {
    "ExecuteTime": {
     "end_time": "2022-08-28T17:48:55.020089Z",
     "start_time": "2022-08-28T17:48:55.016306Z"
    }
   },
   "outputs": [
    {
     "name": "stdout",
     "output_type": "stream",
     "text": [
      "***** Check Columns *****\n",
      "train: ['Store', 'DayOfWeek', 'Date', 'Sales', 'Customers', 'Open', 'Promo', 'StateHoliday', 'SchoolHoliday']\n",
      "test : ['Id', 'Store', 'DayOfWeek', 'Date', 'Open', 'Promo', 'StateHoliday', 'SchoolHoliday']\n",
      "***** Check Length *****\n",
      "train: 1017209\n",
      "test : 41088\n"
     ]
    }
   ],
   "source": [
    "print('***** Check Columns *****')\n",
    "print('train:', df_train.columns.to_list())\n",
    "print('test :', df_test.columns.to_list())\n",
    "\n",
    "print('***** Check Length *****')\n",
    "print('train:', len(df_train))\n",
    "print('test :', len(df_test))"
   ]
  },
  {
   "cell_type": "markdown",
   "id": "147ee9e8",
   "metadata": {},
   "source": [
    "# データ加工"
   ]
  },
  {
   "cell_type": "markdown",
   "id": "b2ae9d03",
   "metadata": {},
   "source": [
    "## 中身確認"
   ]
  },
  {
   "cell_type": "code",
   "execution_count": 5,
   "id": "7cf010ee",
   "metadata": {
    "ExecuteTime": {
     "end_time": "2022-08-28T17:48:55.116915Z",
     "start_time": "2022-08-28T17:48:55.105178Z"
    }
   },
   "outputs": [
    {
     "data": {
      "text/html": [
       "<div>\n",
       "<style scoped>\n",
       "    .dataframe tbody tr th:only-of-type {\n",
       "        vertical-align: middle;\n",
       "    }\n",
       "\n",
       "    .dataframe tbody tr th {\n",
       "        vertical-align: top;\n",
       "    }\n",
       "\n",
       "    .dataframe thead th {\n",
       "        text-align: right;\n",
       "    }\n",
       "</style>\n",
       "<table border=\"1\" class=\"dataframe\">\n",
       "  <thead>\n",
       "    <tr style=\"text-align: right;\">\n",
       "      <th></th>\n",
       "      <th>Store</th>\n",
       "      <th>DayOfWeek</th>\n",
       "      <th>Date</th>\n",
       "      <th>Sales</th>\n",
       "      <th>Customers</th>\n",
       "      <th>Open</th>\n",
       "      <th>Promo</th>\n",
       "      <th>StateHoliday</th>\n",
       "      <th>SchoolHoliday</th>\n",
       "    </tr>\n",
       "  </thead>\n",
       "  <tbody>\n",
       "    <tr>\n",
       "      <th>0</th>\n",
       "      <td>1</td>\n",
       "      <td>5</td>\n",
       "      <td>2015-07-31</td>\n",
       "      <td>5263</td>\n",
       "      <td>555</td>\n",
       "      <td>1</td>\n",
       "      <td>1</td>\n",
       "      <td>0</td>\n",
       "      <td>1</td>\n",
       "    </tr>\n",
       "    <tr>\n",
       "      <th>1</th>\n",
       "      <td>2</td>\n",
       "      <td>5</td>\n",
       "      <td>2015-07-31</td>\n",
       "      <td>6064</td>\n",
       "      <td>625</td>\n",
       "      <td>1</td>\n",
       "      <td>1</td>\n",
       "      <td>0</td>\n",
       "      <td>1</td>\n",
       "    </tr>\n",
       "    <tr>\n",
       "      <th>2</th>\n",
       "      <td>3</td>\n",
       "      <td>5</td>\n",
       "      <td>2015-07-31</td>\n",
       "      <td>8314</td>\n",
       "      <td>821</td>\n",
       "      <td>1</td>\n",
       "      <td>1</td>\n",
       "      <td>0</td>\n",
       "      <td>1</td>\n",
       "    </tr>\n",
       "    <tr>\n",
       "      <th>3</th>\n",
       "      <td>4</td>\n",
       "      <td>5</td>\n",
       "      <td>2015-07-31</td>\n",
       "      <td>13995</td>\n",
       "      <td>1498</td>\n",
       "      <td>1</td>\n",
       "      <td>1</td>\n",
       "      <td>0</td>\n",
       "      <td>1</td>\n",
       "    </tr>\n",
       "    <tr>\n",
       "      <th>4</th>\n",
       "      <td>5</td>\n",
       "      <td>5</td>\n",
       "      <td>2015-07-31</td>\n",
       "      <td>4822</td>\n",
       "      <td>559</td>\n",
       "      <td>1</td>\n",
       "      <td>1</td>\n",
       "      <td>0</td>\n",
       "      <td>1</td>\n",
       "    </tr>\n",
       "  </tbody>\n",
       "</table>\n",
       "</div>"
      ],
      "text/plain": [
       "   Store  DayOfWeek        Date  Sales  Customers  Open  Promo StateHoliday  \\\n",
       "0      1          5  2015-07-31   5263        555     1      1            0   \n",
       "1      2          5  2015-07-31   6064        625     1      1            0   \n",
       "2      3          5  2015-07-31   8314        821     1      1            0   \n",
       "3      4          5  2015-07-31  13995       1498     1      1            0   \n",
       "4      5          5  2015-07-31   4822        559     1      1            0   \n",
       "\n",
       "   SchoolHoliday  \n",
       "0              1  \n",
       "1              1  \n",
       "2              1  \n",
       "3              1  \n",
       "4              1  "
      ]
     },
     "execution_count": 5,
     "metadata": {},
     "output_type": "execute_result"
    }
   ],
   "source": [
    "df_train.head()"
   ]
  },
  {
   "cell_type": "code",
   "execution_count": 6,
   "id": "dd92346c",
   "metadata": {
    "ExecuteTime": {
     "end_time": "2022-08-28T17:48:55.211675Z",
     "start_time": "2022-08-28T17:48:55.204066Z"
    }
   },
   "outputs": [
    {
     "data": {
      "text/html": [
       "<div>\n",
       "<style scoped>\n",
       "    .dataframe tbody tr th:only-of-type {\n",
       "        vertical-align: middle;\n",
       "    }\n",
       "\n",
       "    .dataframe tbody tr th {\n",
       "        vertical-align: top;\n",
       "    }\n",
       "\n",
       "    .dataframe thead th {\n",
       "        text-align: right;\n",
       "    }\n",
       "</style>\n",
       "<table border=\"1\" class=\"dataframe\">\n",
       "  <thead>\n",
       "    <tr style=\"text-align: right;\">\n",
       "      <th></th>\n",
       "      <th>Id</th>\n",
       "      <th>Store</th>\n",
       "      <th>DayOfWeek</th>\n",
       "      <th>Date</th>\n",
       "      <th>Open</th>\n",
       "      <th>Promo</th>\n",
       "      <th>StateHoliday</th>\n",
       "      <th>SchoolHoliday</th>\n",
       "    </tr>\n",
       "  </thead>\n",
       "  <tbody>\n",
       "    <tr>\n",
       "      <th>0</th>\n",
       "      <td>1</td>\n",
       "      <td>1</td>\n",
       "      <td>4</td>\n",
       "      <td>2015-09-17</td>\n",
       "      <td>1.0</td>\n",
       "      <td>1</td>\n",
       "      <td>0</td>\n",
       "      <td>0</td>\n",
       "    </tr>\n",
       "    <tr>\n",
       "      <th>1</th>\n",
       "      <td>2</td>\n",
       "      <td>3</td>\n",
       "      <td>4</td>\n",
       "      <td>2015-09-17</td>\n",
       "      <td>1.0</td>\n",
       "      <td>1</td>\n",
       "      <td>0</td>\n",
       "      <td>0</td>\n",
       "    </tr>\n",
       "    <tr>\n",
       "      <th>2</th>\n",
       "      <td>3</td>\n",
       "      <td>7</td>\n",
       "      <td>4</td>\n",
       "      <td>2015-09-17</td>\n",
       "      <td>1.0</td>\n",
       "      <td>1</td>\n",
       "      <td>0</td>\n",
       "      <td>0</td>\n",
       "    </tr>\n",
       "    <tr>\n",
       "      <th>3</th>\n",
       "      <td>4</td>\n",
       "      <td>8</td>\n",
       "      <td>4</td>\n",
       "      <td>2015-09-17</td>\n",
       "      <td>1.0</td>\n",
       "      <td>1</td>\n",
       "      <td>0</td>\n",
       "      <td>0</td>\n",
       "    </tr>\n",
       "    <tr>\n",
       "      <th>4</th>\n",
       "      <td>5</td>\n",
       "      <td>9</td>\n",
       "      <td>4</td>\n",
       "      <td>2015-09-17</td>\n",
       "      <td>1.0</td>\n",
       "      <td>1</td>\n",
       "      <td>0</td>\n",
       "      <td>0</td>\n",
       "    </tr>\n",
       "  </tbody>\n",
       "</table>\n",
       "</div>"
      ],
      "text/plain": [
       "   Id  Store  DayOfWeek        Date  Open  Promo StateHoliday  SchoolHoliday\n",
       "0   1      1          4  2015-09-17   1.0      1            0              0\n",
       "1   2      3          4  2015-09-17   1.0      1            0              0\n",
       "2   3      7          4  2015-09-17   1.0      1            0              0\n",
       "3   4      8          4  2015-09-17   1.0      1            0              0\n",
       "4   5      9          4  2015-09-17   1.0      1            0              0"
      ]
     },
     "execution_count": 6,
     "metadata": {},
     "output_type": "execute_result"
    }
   ],
   "source": [
    "df_test.head()"
   ]
  },
  {
   "cell_type": "code",
   "execution_count": 15,
   "id": "0f3e439b",
   "metadata": {
    "ExecuteTime": {
     "end_time": "2022-08-28T17:58:50.468298Z",
     "start_time": "2022-08-28T17:58:50.459009Z"
    }
   },
   "outputs": [
    {
     "data": {
      "text/html": [
       "<div>\n",
       "<style scoped>\n",
       "    .dataframe tbody tr th:only-of-type {\n",
       "        vertical-align: middle;\n",
       "    }\n",
       "\n",
       "    .dataframe tbody tr th {\n",
       "        vertical-align: top;\n",
       "    }\n",
       "\n",
       "    .dataframe thead th {\n",
       "        text-align: right;\n",
       "    }\n",
       "</style>\n",
       "<table border=\"1\" class=\"dataframe\">\n",
       "  <thead>\n",
       "    <tr style=\"text-align: right;\">\n",
       "      <th></th>\n",
       "      <th>Store</th>\n",
       "      <th>StoreType</th>\n",
       "      <th>Assortment</th>\n",
       "      <th>CompetitionDistance</th>\n",
       "      <th>CompetitionOpenSinceMonth</th>\n",
       "      <th>CompetitionOpenSinceYear</th>\n",
       "      <th>Promo2</th>\n",
       "      <th>Promo2SinceWeek</th>\n",
       "      <th>Promo2SinceYear</th>\n",
       "      <th>PromoInterval</th>\n",
       "    </tr>\n",
       "  </thead>\n",
       "  <tbody>\n",
       "    <tr>\n",
       "      <th>0</th>\n",
       "      <td>1</td>\n",
       "      <td>c</td>\n",
       "      <td>a</td>\n",
       "      <td>1270.0</td>\n",
       "      <td>9.0</td>\n",
       "      <td>2008.0</td>\n",
       "      <td>0</td>\n",
       "      <td>NaN</td>\n",
       "      <td>NaN</td>\n",
       "      <td>NaN</td>\n",
       "    </tr>\n",
       "    <tr>\n",
       "      <th>1</th>\n",
       "      <td>2</td>\n",
       "      <td>a</td>\n",
       "      <td>a</td>\n",
       "      <td>570.0</td>\n",
       "      <td>11.0</td>\n",
       "      <td>2007.0</td>\n",
       "      <td>1</td>\n",
       "      <td>13.0</td>\n",
       "      <td>2010.0</td>\n",
       "      <td>Jan,Apr,Jul,Oct</td>\n",
       "    </tr>\n",
       "    <tr>\n",
       "      <th>2</th>\n",
       "      <td>3</td>\n",
       "      <td>a</td>\n",
       "      <td>a</td>\n",
       "      <td>14130.0</td>\n",
       "      <td>12.0</td>\n",
       "      <td>2006.0</td>\n",
       "      <td>1</td>\n",
       "      <td>14.0</td>\n",
       "      <td>2011.0</td>\n",
       "      <td>Jan,Apr,Jul,Oct</td>\n",
       "    </tr>\n",
       "    <tr>\n",
       "      <th>3</th>\n",
       "      <td>4</td>\n",
       "      <td>c</td>\n",
       "      <td>c</td>\n",
       "      <td>620.0</td>\n",
       "      <td>9.0</td>\n",
       "      <td>2009.0</td>\n",
       "      <td>0</td>\n",
       "      <td>NaN</td>\n",
       "      <td>NaN</td>\n",
       "      <td>NaN</td>\n",
       "    </tr>\n",
       "    <tr>\n",
       "      <th>4</th>\n",
       "      <td>5</td>\n",
       "      <td>a</td>\n",
       "      <td>a</td>\n",
       "      <td>29910.0</td>\n",
       "      <td>4.0</td>\n",
       "      <td>2015.0</td>\n",
       "      <td>0</td>\n",
       "      <td>NaN</td>\n",
       "      <td>NaN</td>\n",
       "      <td>NaN</td>\n",
       "    </tr>\n",
       "  </tbody>\n",
       "</table>\n",
       "</div>"
      ],
      "text/plain": [
       "   Store StoreType Assortment  CompetitionDistance  CompetitionOpenSinceMonth  \\\n",
       "0      1         c          a               1270.0                        9.0   \n",
       "1      2         a          a                570.0                       11.0   \n",
       "2      3         a          a              14130.0                       12.0   \n",
       "3      4         c          c                620.0                        9.0   \n",
       "4      5         a          a              29910.0                        4.0   \n",
       "\n",
       "   CompetitionOpenSinceYear  Promo2  Promo2SinceWeek  Promo2SinceYear  \\\n",
       "0                    2008.0       0              NaN              NaN   \n",
       "1                    2007.0       1             13.0           2010.0   \n",
       "2                    2006.0       1             14.0           2011.0   \n",
       "3                    2009.0       0              NaN              NaN   \n",
       "4                    2015.0       0              NaN              NaN   \n",
       "\n",
       "     PromoInterval  \n",
       "0              NaN  \n",
       "1  Jan,Apr,Jul,Oct  \n",
       "2  Jan,Apr,Jul,Oct  \n",
       "3              NaN  \n",
       "4              NaN  "
      ]
     },
     "execution_count": 15,
     "metadata": {},
     "output_type": "execute_result"
    }
   ],
   "source": [
    "df_store.head()"
   ]
  },
  {
   "cell_type": "code",
   "execution_count": 18,
   "id": "a2831613",
   "metadata": {
    "ExecuteTime": {
     "end_time": "2022-08-28T18:00:24.794376Z",
     "start_time": "2022-08-28T18:00:24.788240Z"
    }
   },
   "outputs": [
    {
     "data": {
      "text/plain": [
       "Store                          0\n",
       "StoreType                      0\n",
       "Assortment                     0\n",
       "CompetitionDistance            3\n",
       "CompetitionOpenSinceMonth    354\n",
       "CompetitionOpenSinceYear     354\n",
       "Promo2                         0\n",
       "Promo2SinceWeek              544\n",
       "Promo2SinceYear              544\n",
       "PromoInterval                544\n",
       "dtype: int64"
      ]
     },
     "execution_count": 18,
     "metadata": {},
     "output_type": "execute_result"
    }
   ],
   "source": [
    "df_store.isnull().sum()"
   ]
  },
  {
   "cell_type": "code",
   "execution_count": 17,
   "id": "6df0661d",
   "metadata": {
    "ExecuteTime": {
     "end_time": "2022-08-28T17:59:43.609033Z",
     "start_time": "2022-08-28T17:59:43.599711Z"
    }
   },
   "outputs": [
    {
     "data": {
      "text/html": [
       "<div>\n",
       "<style scoped>\n",
       "    .dataframe tbody tr th:only-of-type {\n",
       "        vertical-align: middle;\n",
       "    }\n",
       "\n",
       "    .dataframe tbody tr th {\n",
       "        vertical-align: top;\n",
       "    }\n",
       "\n",
       "    .dataframe thead th {\n",
       "        text-align: right;\n",
       "    }\n",
       "</style>\n",
       "<table border=\"1\" class=\"dataframe\">\n",
       "  <thead>\n",
       "    <tr style=\"text-align: right;\">\n",
       "      <th></th>\n",
       "      <th>Store</th>\n",
       "      <th>Assortment</th>\n",
       "      <th>CompetitionDistance</th>\n",
       "      <th>CompetitionOpenSinceMonth</th>\n",
       "      <th>CompetitionOpenSinceYear</th>\n",
       "      <th>Promo2</th>\n",
       "      <th>Promo2SinceWeek</th>\n",
       "      <th>Promo2SinceYear</th>\n",
       "      <th>PromoInterval</th>\n",
       "    </tr>\n",
       "    <tr>\n",
       "      <th>StoreType</th>\n",
       "      <th></th>\n",
       "      <th></th>\n",
       "      <th></th>\n",
       "      <th></th>\n",
       "      <th></th>\n",
       "      <th></th>\n",
       "      <th></th>\n",
       "      <th></th>\n",
       "      <th></th>\n",
       "    </tr>\n",
       "  </thead>\n",
       "  <tbody>\n",
       "    <tr>\n",
       "      <th>a</th>\n",
       "      <td>602</td>\n",
       "      <td>602</td>\n",
       "      <td>601</td>\n",
       "      <td>426</td>\n",
       "      <td>426</td>\n",
       "      <td>602</td>\n",
       "      <td>289</td>\n",
       "      <td>289</td>\n",
       "      <td>289</td>\n",
       "    </tr>\n",
       "    <tr>\n",
       "      <th>b</th>\n",
       "      <td>17</td>\n",
       "      <td>17</td>\n",
       "      <td>17</td>\n",
       "      <td>9</td>\n",
       "      <td>9</td>\n",
       "      <td>17</td>\n",
       "      <td>5</td>\n",
       "      <td>5</td>\n",
       "      <td>5</td>\n",
       "    </tr>\n",
       "    <tr>\n",
       "      <th>c</th>\n",
       "      <td>148</td>\n",
       "      <td>148</td>\n",
       "      <td>148</td>\n",
       "      <td>107</td>\n",
       "      <td>107</td>\n",
       "      <td>148</td>\n",
       "      <td>75</td>\n",
       "      <td>75</td>\n",
       "      <td>75</td>\n",
       "    </tr>\n",
       "    <tr>\n",
       "      <th>d</th>\n",
       "      <td>348</td>\n",
       "      <td>348</td>\n",
       "      <td>346</td>\n",
       "      <td>219</td>\n",
       "      <td>219</td>\n",
       "      <td>348</td>\n",
       "      <td>202</td>\n",
       "      <td>202</td>\n",
       "      <td>202</td>\n",
       "    </tr>\n",
       "  </tbody>\n",
       "</table>\n",
       "</div>"
      ],
      "text/plain": [
       "           Store  Assortment  CompetitionDistance  CompetitionOpenSinceMonth  \\\n",
       "StoreType                                                                      \n",
       "a            602         602                  601                        426   \n",
       "b             17          17                   17                          9   \n",
       "c            148         148                  148                        107   \n",
       "d            348         348                  346                        219   \n",
       "\n",
       "           CompetitionOpenSinceYear  Promo2  Promo2SinceWeek  Promo2SinceYear  \\\n",
       "StoreType                                                                       \n",
       "a                               426     602              289              289   \n",
       "b                                 9      17                5                5   \n",
       "c                               107     148               75               75   \n",
       "d                               219     348              202              202   \n",
       "\n",
       "           PromoInterval  \n",
       "StoreType                 \n",
       "a                    289  \n",
       "b                      5  \n",
       "c                     75  \n",
       "d                    202  "
      ]
     },
     "execution_count": 17,
     "metadata": {},
     "output_type": "execute_result"
    }
   ],
   "source": [
    "df_store.groupby(['StoreType']).count()"
   ]
  },
  {
   "cell_type": "markdown",
   "id": "a5085ec5",
   "metadata": {},
   "source": [
    "## 必要な情報だけ抽出"
   ]
  },
  {
   "cell_type": "code",
   "execution_count": 7,
   "id": "ffa27997",
   "metadata": {
    "ExecuteTime": {
     "end_time": "2022-08-28T17:48:55.965943Z",
     "start_time": "2022-08-28T17:48:55.957470Z"
    }
   },
   "outputs": [
    {
     "data": {
      "text/html": [
       "<div>\n",
       "<style scoped>\n",
       "    .dataframe tbody tr th:only-of-type {\n",
       "        vertical-align: middle;\n",
       "    }\n",
       "\n",
       "    .dataframe tbody tr th {\n",
       "        vertical-align: top;\n",
       "    }\n",
       "\n",
       "    .dataframe thead th {\n",
       "        text-align: right;\n",
       "    }\n",
       "</style>\n",
       "<table border=\"1\" class=\"dataframe\">\n",
       "  <thead>\n",
       "    <tr style=\"text-align: right;\">\n",
       "      <th></th>\n",
       "      <th>Store</th>\n",
       "      <th>DayOfWeek</th>\n",
       "      <th>Date</th>\n",
       "      <th>Open</th>\n",
       "      <th>Promo</th>\n",
       "      <th>StateHoliday</th>\n",
       "      <th>SchoolHoliday</th>\n",
       "    </tr>\n",
       "  </thead>\n",
       "  <tbody>\n",
       "    <tr>\n",
       "      <th>0</th>\n",
       "      <td>1</td>\n",
       "      <td>4</td>\n",
       "      <td>2015-09-17</td>\n",
       "      <td>1.0</td>\n",
       "      <td>1</td>\n",
       "      <td>0</td>\n",
       "      <td>0</td>\n",
       "    </tr>\n",
       "    <tr>\n",
       "      <th>1</th>\n",
       "      <td>3</td>\n",
       "      <td>4</td>\n",
       "      <td>2015-09-17</td>\n",
       "      <td>1.0</td>\n",
       "      <td>1</td>\n",
       "      <td>0</td>\n",
       "      <td>0</td>\n",
       "    </tr>\n",
       "    <tr>\n",
       "      <th>2</th>\n",
       "      <td>7</td>\n",
       "      <td>4</td>\n",
       "      <td>2015-09-17</td>\n",
       "      <td>1.0</td>\n",
       "      <td>1</td>\n",
       "      <td>0</td>\n",
       "      <td>0</td>\n",
       "    </tr>\n",
       "    <tr>\n",
       "      <th>3</th>\n",
       "      <td>8</td>\n",
       "      <td>4</td>\n",
       "      <td>2015-09-17</td>\n",
       "      <td>1.0</td>\n",
       "      <td>1</td>\n",
       "      <td>0</td>\n",
       "      <td>0</td>\n",
       "    </tr>\n",
       "    <tr>\n",
       "      <th>4</th>\n",
       "      <td>9</td>\n",
       "      <td>4</td>\n",
       "      <td>2015-09-17</td>\n",
       "      <td>1.0</td>\n",
       "      <td>1</td>\n",
       "      <td>0</td>\n",
       "      <td>0</td>\n",
       "    </tr>\n",
       "  </tbody>\n",
       "</table>\n",
       "</div>"
      ],
      "text/plain": [
       "   Store  DayOfWeek        Date  Open  Promo StateHoliday  SchoolHoliday\n",
       "0      1          4  2015-09-17   1.0      1            0              0\n",
       "1      3          4  2015-09-17   1.0      1            0              0\n",
       "2      7          4  2015-09-17   1.0      1            0              0\n",
       "3      8          4  2015-09-17   1.0      1            0              0\n",
       "4      9          4  2015-09-17   1.0      1            0              0"
      ]
     },
     "execution_count": 7,
     "metadata": {},
     "output_type": "execute_result"
    }
   ],
   "source": [
    "# df_testのIdがいらないので削除\n",
    "df_test = df_test.drop('Id',axis=1)\n",
    "df_test.head()"
   ]
  },
  {
   "cell_type": "code",
   "execution_count": 8,
   "id": "84e12942",
   "metadata": {
    "ExecuteTime": {
     "end_time": "2022-08-28T17:48:56.206680Z",
     "start_time": "2022-08-28T17:48:56.152902Z"
    }
   },
   "outputs": [
    {
     "name": "stdout",
     "output_type": "stream",
     "text": [
      "         Store  DayOfWeek        Date  Sales  Customers  Open  Promo  \\\n",
      "291        292          5  2015-07-31      0          0     0      1   \n",
      "875        876          5  2015-07-31      0          0     0      1   \n",
      "1406       292          4  2015-07-30      0          0     0      1   \n",
      "1990       876          4  2015-07-30      0          0     0      1   \n",
      "2521       292          3  2015-07-29      0          0     0      1   \n",
      "...        ...        ...         ...    ...        ...   ...    ...   \n",
      "1017204   1111          2  2013-01-01      0          0     0      0   \n",
      "1017205   1112          2  2013-01-01      0          0     0      0   \n",
      "1017206   1113          2  2013-01-01      0          0     0      0   \n",
      "1017207   1114          2  2013-01-01      0          0     0      0   \n",
      "1017208   1115          2  2013-01-01      0          0     0      0   \n",
      "\n",
      "        StateHoliday  SchoolHoliday  \n",
      "291                0              1  \n",
      "875                0              1  \n",
      "1406               0              1  \n",
      "1990               0              1  \n",
      "2521               0              1  \n",
      "...              ...            ...  \n",
      "1017204            a              1  \n",
      "1017205            a              1  \n",
      "1017206            a              1  \n",
      "1017207            a              1  \n",
      "1017208            a              1  \n",
      "\n",
      "[172817 rows x 9 columns]\n",
      "         Store  DayOfWeek        Date  Sales  Customers  Open  Promo  \\\n",
      "0            1          5  2015-07-31   5263        555     1      1   \n",
      "1            2          5  2015-07-31   6064        625     1      1   \n",
      "2            3          5  2015-07-31   8314        821     1      1   \n",
      "3            4          5  2015-07-31  13995       1498     1      1   \n",
      "4            5          5  2015-07-31   4822        559     1      1   \n",
      "...        ...        ...         ...    ...        ...   ...    ...   \n",
      "1016776    682          2  2013-01-01   3375        566     1      0   \n",
      "1016827    733          2  2013-01-01  10765       2377     1      0   \n",
      "1016863    769          2  2013-01-01   5035       1248     1      0   \n",
      "1017042    948          2  2013-01-01   4491       1039     1      0   \n",
      "1017190   1097          2  2013-01-01   5961       1405     1      0   \n",
      "\n",
      "        StateHoliday  SchoolHoliday  \n",
      "0                  0              1  \n",
      "1                  0              1  \n",
      "2                  0              1  \n",
      "3                  0              1  \n",
      "4                  0              1  \n",
      "...              ...            ...  \n",
      "1016776            a              1  \n",
      "1016827            a              1  \n",
      "1016863            a              1  \n",
      "1017042            a              1  \n",
      "1017190            a              1  \n",
      "\n",
      "[844392 rows x 9 columns]\n"
     ]
    }
   ],
   "source": [
    "print(df_train[df_train['Open']==0])\n",
    "print(df_train[df_train['Open']==1])"
   ]
  },
  {
   "cell_type": "code",
   "execution_count": 9,
   "id": "6fd1f95c",
   "metadata": {
    "ExecuteTime": {
     "end_time": "2022-08-28T17:48:56.744445Z",
     "start_time": "2022-08-28T17:48:56.669787Z"
    }
   },
   "outputs": [
    {
     "name": "stdout",
     "output_type": "stream",
     "text": [
      "172817\n",
      "844392\n"
     ]
    }
   ],
   "source": [
    "print(len(df_train[df_train['Open']==0]))\n",
    "print(len(df_train[df_train['Open']==1]))\n",
    "\n",
    "df_train = df_train[df_train['Open']==1]"
   ]
  },
  {
   "cell_type": "markdown",
   "id": "832cac70",
   "metadata": {},
   "source": [
    "## df_storeをmerge"
   ]
  },
  {
   "cell_type": "code",
   "execution_count": null,
   "id": "0ea075f9",
   "metadata": {},
   "outputs": [],
   "source": []
  },
  {
   "cell_type": "code",
   "execution_count": 14,
   "id": "60025457",
   "metadata": {
    "ExecuteTime": {
     "end_time": "2022-08-28T17:58:14.162593Z",
     "start_time": "2022-08-28T17:58:13.902910Z"
    }
   },
   "outputs": [
    {
     "data": {
      "text/html": [
       "<div>\n",
       "<style scoped>\n",
       "    .dataframe tbody tr th:only-of-type {\n",
       "        vertical-align: middle;\n",
       "    }\n",
       "\n",
       "    .dataframe tbody tr th {\n",
       "        vertical-align: top;\n",
       "    }\n",
       "\n",
       "    .dataframe thead th {\n",
       "        text-align: right;\n",
       "    }\n",
       "</style>\n",
       "<table border=\"1\" class=\"dataframe\">\n",
       "  <thead>\n",
       "    <tr style=\"text-align: right;\">\n",
       "      <th></th>\n",
       "      <th>Store</th>\n",
       "      <th>DayOfWeek</th>\n",
       "      <th>Date</th>\n",
       "      <th>Sales</th>\n",
       "      <th>Customers</th>\n",
       "      <th>Open</th>\n",
       "      <th>Promo</th>\n",
       "      <th>StateHoliday</th>\n",
       "      <th>SchoolHoliday</th>\n",
       "      <th>StoreType</th>\n",
       "      <th>Assortment</th>\n",
       "      <th>CompetitionDistance</th>\n",
       "      <th>CompetitionOpenSinceMonth</th>\n",
       "      <th>CompetitionOpenSinceYear</th>\n",
       "      <th>Promo2</th>\n",
       "      <th>Promo2SinceWeek</th>\n",
       "      <th>Promo2SinceYear</th>\n",
       "      <th>PromoInterval</th>\n",
       "    </tr>\n",
       "  </thead>\n",
       "  <tbody>\n",
       "    <tr>\n",
       "      <th>0</th>\n",
       "      <td>1</td>\n",
       "      <td>5</td>\n",
       "      <td>2015-07-31</td>\n",
       "      <td>5263</td>\n",
       "      <td>555</td>\n",
       "      <td>1</td>\n",
       "      <td>1</td>\n",
       "      <td>0</td>\n",
       "      <td>1</td>\n",
       "      <td>c</td>\n",
       "      <td>a</td>\n",
       "      <td>1270.0</td>\n",
       "      <td>9.0</td>\n",
       "      <td>2008.0</td>\n",
       "      <td>0</td>\n",
       "      <td>NaN</td>\n",
       "      <td>NaN</td>\n",
       "      <td>NaN</td>\n",
       "    </tr>\n",
       "    <tr>\n",
       "      <th>1</th>\n",
       "      <td>1</td>\n",
       "      <td>4</td>\n",
       "      <td>2015-07-30</td>\n",
       "      <td>5020</td>\n",
       "      <td>546</td>\n",
       "      <td>1</td>\n",
       "      <td>1</td>\n",
       "      <td>0</td>\n",
       "      <td>1</td>\n",
       "      <td>c</td>\n",
       "      <td>a</td>\n",
       "      <td>1270.0</td>\n",
       "      <td>9.0</td>\n",
       "      <td>2008.0</td>\n",
       "      <td>0</td>\n",
       "      <td>NaN</td>\n",
       "      <td>NaN</td>\n",
       "      <td>NaN</td>\n",
       "    </tr>\n",
       "    <tr>\n",
       "      <th>2</th>\n",
       "      <td>1</td>\n",
       "      <td>3</td>\n",
       "      <td>2015-07-29</td>\n",
       "      <td>4782</td>\n",
       "      <td>523</td>\n",
       "      <td>1</td>\n",
       "      <td>1</td>\n",
       "      <td>0</td>\n",
       "      <td>1</td>\n",
       "      <td>c</td>\n",
       "      <td>a</td>\n",
       "      <td>1270.0</td>\n",
       "      <td>9.0</td>\n",
       "      <td>2008.0</td>\n",
       "      <td>0</td>\n",
       "      <td>NaN</td>\n",
       "      <td>NaN</td>\n",
       "      <td>NaN</td>\n",
       "    </tr>\n",
       "    <tr>\n",
       "      <th>3</th>\n",
       "      <td>1</td>\n",
       "      <td>2</td>\n",
       "      <td>2015-07-28</td>\n",
       "      <td>5011</td>\n",
       "      <td>560</td>\n",
       "      <td>1</td>\n",
       "      <td>1</td>\n",
       "      <td>0</td>\n",
       "      <td>1</td>\n",
       "      <td>c</td>\n",
       "      <td>a</td>\n",
       "      <td>1270.0</td>\n",
       "      <td>9.0</td>\n",
       "      <td>2008.0</td>\n",
       "      <td>0</td>\n",
       "      <td>NaN</td>\n",
       "      <td>NaN</td>\n",
       "      <td>NaN</td>\n",
       "    </tr>\n",
       "    <tr>\n",
       "      <th>4</th>\n",
       "      <td>1</td>\n",
       "      <td>1</td>\n",
       "      <td>2015-07-27</td>\n",
       "      <td>6102</td>\n",
       "      <td>612</td>\n",
       "      <td>1</td>\n",
       "      <td>1</td>\n",
       "      <td>0</td>\n",
       "      <td>1</td>\n",
       "      <td>c</td>\n",
       "      <td>a</td>\n",
       "      <td>1270.0</td>\n",
       "      <td>9.0</td>\n",
       "      <td>2008.0</td>\n",
       "      <td>0</td>\n",
       "      <td>NaN</td>\n",
       "      <td>NaN</td>\n",
       "      <td>NaN</td>\n",
       "    </tr>\n",
       "  </tbody>\n",
       "</table>\n",
       "</div>"
      ],
      "text/plain": [
       "   Store  DayOfWeek        Date  Sales  Customers  Open  Promo StateHoliday  \\\n",
       "0      1          5  2015-07-31   5263        555     1      1            0   \n",
       "1      1          4  2015-07-30   5020        546     1      1            0   \n",
       "2      1          3  2015-07-29   4782        523     1      1            0   \n",
       "3      1          2  2015-07-28   5011        560     1      1            0   \n",
       "4      1          1  2015-07-27   6102        612     1      1            0   \n",
       "\n",
       "   SchoolHoliday StoreType Assortment  CompetitionDistance  \\\n",
       "0              1         c          a               1270.0   \n",
       "1              1         c          a               1270.0   \n",
       "2              1         c          a               1270.0   \n",
       "3              1         c          a               1270.0   \n",
       "4              1         c          a               1270.0   \n",
       "\n",
       "   CompetitionOpenSinceMonth  CompetitionOpenSinceYear  Promo2  \\\n",
       "0                        9.0                    2008.0       0   \n",
       "1                        9.0                    2008.0       0   \n",
       "2                        9.0                    2008.0       0   \n",
       "3                        9.0                    2008.0       0   \n",
       "4                        9.0                    2008.0       0   \n",
       "\n",
       "   Promo2SinceWeek  Promo2SinceYear PromoInterval  \n",
       "0              NaN              NaN           NaN  \n",
       "1              NaN              NaN           NaN  \n",
       "2              NaN              NaN           NaN  \n",
       "3              NaN              NaN           NaN  \n",
       "4              NaN              NaN           NaN  "
      ]
     },
     "execution_count": 14,
     "metadata": {},
     "output_type": "execute_result"
    }
   ],
   "source": [
    "df_train_all = pd.merge(df_train, df_store, how='inner', on=\"Store\")\n",
    "df_train_all.head()"
   ]
  },
  {
   "cell_type": "code",
   "execution_count": null,
   "id": "f0ddb807",
   "metadata": {},
   "outputs": [],
   "source": []
  },
  {
   "cell_type": "code",
   "execution_count": null,
   "id": "0c398df1",
   "metadata": {},
   "outputs": [],
   "source": []
  },
  {
   "cell_type": "code",
   "execution_count": null,
   "id": "d3e17e4e",
   "metadata": {},
   "outputs": [],
   "source": []
  },
  {
   "cell_type": "markdown",
   "id": "f304aa30",
   "metadata": {},
   "source": [
    "# データの確認"
   ]
  },
  {
   "cell_type": "code",
   "execution_count": null,
   "id": "e8c31352",
   "metadata": {},
   "outputs": [],
   "source": []
  },
  {
   "cell_type": "code",
   "execution_count": null,
   "id": "30b5fc34",
   "metadata": {},
   "outputs": [],
   "source": []
  },
  {
   "cell_type": "code",
   "execution_count": null,
   "id": "6cdb802c",
   "metadata": {},
   "outputs": [],
   "source": []
  },
  {
   "cell_type": "code",
   "execution_count": null,
   "id": "b5f3f420",
   "metadata": {},
   "outputs": [],
   "source": []
  },
  {
   "cell_type": "code",
   "execution_count": null,
   "id": "68bcfb0e",
   "metadata": {},
   "outputs": [],
   "source": []
  },
  {
   "cell_type": "code",
   "execution_count": null,
   "id": "e89df00b",
   "metadata": {},
   "outputs": [],
   "source": []
  },
  {
   "cell_type": "code",
   "execution_count": null,
   "id": "1f288727",
   "metadata": {},
   "outputs": [],
   "source": []
  },
  {
   "cell_type": "markdown",
   "id": "05991ae9",
   "metadata": {
    "heading_collapsed": true
   },
   "source": [
    "# 売上を全部足しあげて時系列分析 "
   ]
  },
  {
   "cell_type": "code",
   "execution_count": null,
   "id": "c33affc1",
   "metadata": {
    "hidden": true
   },
   "outputs": [],
   "source": [
    "df_sum = df_train.groupby(by=['Date'])['Sales'].agg('sum')"
   ]
  },
  {
   "cell_type": "code",
   "execution_count": null,
   "id": "a12671bf",
   "metadata": {
    "hidden": true
   },
   "outputs": [],
   "source": [
    "df_sum"
   ]
  },
  {
   "cell_type": "code",
   "execution_count": null,
   "id": "7019da62",
   "metadata": {
    "hidden": true
   },
   "outputs": [],
   "source": [
    "df_sum_pd = pd.DataFrame(df_sum)#.transpose()"
   ]
  },
  {
   "cell_type": "code",
   "execution_count": null,
   "id": "8c0f0fee",
   "metadata": {
    "hidden": true
   },
   "outputs": [],
   "source": [
    "df_sum_pd.columns"
   ]
  },
  {
   "cell_type": "code",
   "execution_count": null,
   "id": "5dd8a0a9",
   "metadata": {
    "hidden": true
   },
   "outputs": [],
   "source": [
    "df_sum_train = df_sum_pd[:-31]\n",
    "df_sum_test  = df_sum_pd[-31:]"
   ]
  },
  {
   "cell_type": "code",
   "execution_count": null,
   "id": "dc714faa",
   "metadata": {
    "hidden": true
   },
   "outputs": [],
   "source": [
    "plt.figure(figsize=(18, 8))\n",
    "plt.plot(df_sum_test['Sales'])\n",
    "plt.xlabel(\"Date\", fontsize=14)\n",
    "plt.ylabel(\"Sales\", fontsize=14)\n",
    "plt.xticks(rotation=45, fontsize=14)\n",
    "plt.yticks(fontsize=14)\n",
    "plt.show()"
   ]
  },
  {
   "cell_type": "code",
   "execution_count": null,
   "id": "035ac302",
   "metadata": {
    "hidden": true
   },
   "outputs": [],
   "source": [
    "df_sum_train = df_sum[df_sum.index >= \"2014-07-01\"]\n",
    "df_sum_test = df_sum[df_sum.index >= \"2015-07-01\"]\n"
   ]
  },
  {
   "cell_type": "code",
   "execution_count": null,
   "id": "85c6047e",
   "metadata": {
    "hidden": true
   },
   "outputs": [],
   "source": [
    "plt.figure(figsize=(60, 8))\n",
    "plt.plot(df_sum_train)\n",
    "plt.xlabel(\"Date\", fontsize=14)\n",
    "plt.ylabel(\"Sales\", fontsize=14)\n",
    "plt.xticks(rotation=90, fontsize=14)\n",
    "plt.yticks(fontsize=14)\n",
    "plt.show()"
   ]
  },
  {
   "cell_type": "code",
   "execution_count": null,
   "id": "3f4bdcd7",
   "metadata": {
    "hidden": true
   },
   "outputs": [],
   "source": [
    "plt.figure(figsize=(12, 8))\n",
    "plt.plot(df_sum_test)\n",
    "plt.xlabel(\"Date\", fontsize=14)\n",
    "plt.ylabel(\"Sales\", fontsize=14)\n",
    "plt.xticks(rotation=90, fontsize=14)\n",
    "plt.yticks(fontsize=14)\n",
    "plt.show()"
   ]
  },
  {
   "cell_type": "code",
   "execution_count": null,
   "id": "b4be063e",
   "metadata": {
    "hidden": true
   },
   "outputs": [],
   "source": [
    "utils.decomposed_plot(arima.decompose(df_sum_train, 'additive', m=31),\n",
    "                     figure_kwargs = {'figsize':(12,12)})"
   ]
  },
  {
   "cell_type": "code",
   "execution_count": null,
   "id": "d505449a",
   "metadata": {
    "hidden": true
   },
   "outputs": [],
   "source": []
  },
  {
   "cell_type": "code",
   "execution_count": null,
   "id": "70c6ccc0",
   "metadata": {
    "hidden": true
   },
   "outputs": [],
   "source": []
  },
  {
   "cell_type": "code",
   "execution_count": null,
   "id": "93675944",
   "metadata": {
    "hidden": true
   },
   "outputs": [],
   "source": [
    "df_sum = df_sum[df_sum.index >= \"2014-07-01\"]\n",
    "print(len(df_sum))"
   ]
  },
  {
   "cell_type": "code",
   "execution_count": null,
   "id": "61f267f2",
   "metadata": {
    "hidden": true
   },
   "outputs": [],
   "source": [
    "# 階差の次数の検討\n",
    "print('d =', arima.ndiffs(df_sum)) #d（階差）\n",
    "print('D =', arima.nsdiffs(df_sum,m=31)) #D（季節階差）\n"
   ]
  },
  {
   "cell_type": "code",
   "execution_count": null,
   "id": "910cc29b",
   "metadata": {
    "hidden": true
   },
   "outputs": [],
   "source": [
    "# 通常の階差処理を1回しさらに季節階差処理を1回\n",
    "data_d1 = pd.DataFrame(df_sum).diff(1).dropna()"
   ]
  },
  {
   "cell_type": "code",
   "execution_count": null,
   "id": "50249aa7",
   "metadata": {
    "hidden": true
   },
   "outputs": [],
   "source": [
    "# データ分割（train:学習データ、test:テストデータ）\n",
    "train, test = model_selection.train_test_split(df_sum, test_size=31)"
   ]
  },
  {
   "cell_type": "code",
   "execution_count": null,
   "id": "1e1939fc",
   "metadata": {
    "hidden": true
   },
   "outputs": [],
   "source": [
    "# モデル構築（Auto ARIMA）\n",
    "arima_model = pm.auto_arima(train, \n",
    "                            seasonal=True,\n",
    "                            m=31,\n",
    "                            trace=True,\n",
    "                            n_jobs=-1,\n",
    "                            maxiter=10)"
   ]
  },
  {
   "cell_type": "code",
   "execution_count": null,
   "id": "e4dda92d",
   "metadata": {
    "hidden": true
   },
   "outputs": [],
   "source": [
    "# グラフのサイズ変更\n",
    "plt.rcParams['figure.figsize'] = [12, 9]\n",
    "# 予測\n",
    "preds, conf_int = arima_model.predict(n_periods=test.shape[0], \n",
    "                                      return_conf_int=True)\n",
    "# 予測精度\n",
    "print('MAE:')\n",
    "print(mean_absolute_error(test, preds)) \n",
    "print('MAPE(%):')\n",
    "print(mean(abs(test - preds)/test) *100)\n",
    "# 予測と実測の比較（グラフ）\n",
    "x_axis = np.arange(preds.shape[0])\n",
    "plt.plot(x_axis,test,label=\"actual\",color='r') \n",
    "plt.plot(x_axis,preds,label=\"predicted\",color='b')\n",
    "plt.fill_between(x_axis[-preds.shape[0]:],\n",
    "                 conf_int[:, 0], conf_int[:, 1],\n",
    "                 alpha=0.1, color='b')\n",
    "plt.legend()\n",
    "plt.show()\n",
    " "
   ]
  },
  {
   "cell_type": "code",
   "execution_count": null,
   "id": "791badf8",
   "metadata": {
    "hidden": true
   },
   "outputs": [],
   "source": [
    "# グラフ（学習データとテストデータ、予測結果）\n",
    "x_axis = np.arange(train.shape[0] + preds.shape[0])\n",
    "plt.plot(x_axis[:train.shape[0]],train,color='r',label=\"actual\")\n",
    "plt.plot(x_axis[train.shape[0]:],test,color='r')\n",
    "plt.plot(x_axis[train.shape[0]:],preds,color='b',label=\"predicted\")\n",
    "plt.fill_between(x_axis[-preds.shape[0]:],\n",
    "                 conf_int[:, 0], conf_int[:, 1],\n",
    "                 alpha=0.1,color='b')\n",
    "plt.legend()\n",
    "plt.show()\n",
    " "
   ]
  },
  {
   "cell_type": "code",
   "execution_count": null,
   "id": "2f5a4d2e",
   "metadata": {
    "hidden": true
   },
   "outputs": [],
   "source": [
    "# モデル構築（Auto ARIMA）\n",
    "arima_model = pm.auto_arima(train, \n",
    "                             seasonal=True,\n",
    "                             m=31,\n",
    "                             d=1,\n",
    "#                              D=1,\n",
    "                             n_jobs=-1,\n",
    "                             maxiter=10)\n",
    "# グラフのサイズ変更\n",
    "plt.rcParams['figure.figsize'] = [12, 9]\n",
    "# 予測\n",
    "preds, conf_int = arima_model.predict(n_periods=test.shape[0], \n",
    "                                      return_conf_int=True)\n",
    "# 予測精度\n",
    "print('MAE:')\n",
    "print(mean_absolute_error(test, preds)) \n",
    "print('MAPE(%):')\n",
    "print(mean(abs(test - preds)/test) *100)\n",
    "# 予測と実測の比較（グラフ）\n",
    "x_axis = np.arange(preds.shape[0])\n",
    "plt.plot(x_axis,test,label=\"actual\",color='r') \n",
    "plt.plot(x_axis,preds,label=\"predicted\",color='b')\n",
    "plt.fill_between(x_axis[-preds.shape[0]:],\n",
    "                 conf_int[:, 0], conf_int[:, 1],\n",
    "                 alpha=0.1, color='b')\n",
    "plt.legend()\n",
    "plt.show()\n",
    "# グラフ（学習データとテストデータ、予測結果）\n",
    "x_axis = np.arange(train.shape[0] + preds.shape[0])\n",
    "plt.plot(x_axis[:train.shape[0]],train,color='r',label=\"actual\")\n",
    "plt.plot(x_axis[train.shape[0]:],test,color='r')\n",
    "plt.plot(x_axis[train.shape[0]:],preds,color='b',label=\"predicted\")\n",
    "plt.fill_between(x_axis[-preds.shape[0]:],\n",
    "                 conf_int[:, 0], conf_int[:, 1],\n",
    "                 alpha=0.1,color='b')\n",
    "plt.legend()\n",
    "plt.show()"
   ]
  },
  {
   "cell_type": "code",
   "execution_count": null,
   "id": "b831d7c3",
   "metadata": {
    "hidden": true
   },
   "outputs": [],
   "source": []
  },
  {
   "cell_type": "code",
   "execution_count": null,
   "id": "6019e0f4",
   "metadata": {
    "hidden": true
   },
   "outputs": [],
   "source": []
  },
  {
   "cell_type": "code",
   "execution_count": null,
   "id": "7af3d675",
   "metadata": {
    "hidden": true
   },
   "outputs": [],
   "source": []
  },
  {
   "cell_type": "code",
   "execution_count": null,
   "id": "2926dcff",
   "metadata": {
    "hidden": true
   },
   "outputs": [],
   "source": []
  },
  {
   "cell_type": "markdown",
   "id": "6a5b76d2",
   "metadata": {},
   "source": [
    "# 売上が一番大きい店舗について、注目して分析"
   ]
  },
  {
   "cell_type": "code",
   "execution_count": null,
   "id": "431339c0",
   "metadata": {},
   "outputs": [],
   "source": [
    "df_sum_store = df_train.groupby(by=['Store'])['Sales'].agg('sum')"
   ]
  },
  {
   "cell_type": "code",
   "execution_count": null,
   "id": "d0cfd4e5",
   "metadata": {},
   "outputs": [],
   "source": [
    "df_sum_store.sort_values()\n",
    "# -> 262"
   ]
  },
  {
   "cell_type": "code",
   "execution_count": null,
   "id": "8b63e5a3",
   "metadata": {},
   "outputs": [],
   "source": [
    "df_train_262 = df_train[df_train['Store']==262]"
   ]
  },
  {
   "cell_type": "code",
   "execution_count": null,
   "id": "e278f48a",
   "metadata": {},
   "outputs": [],
   "source": [
    "df_train_262"
   ]
  },
  {
   "cell_type": "code",
   "execution_count": null,
   "id": "23aad870",
   "metadata": {},
   "outputs": [],
   "source": [
    "df_train_262_sale = pd.Series(list(df_train_262['Sales']), index=df_train_262['Date'])"
   ]
  },
  {
   "cell_type": "code",
   "execution_count": null,
   "id": "459c8f07",
   "metadata": {},
   "outputs": [],
   "source": [
    "df_train_262_sale"
   ]
  },
  {
   "cell_type": "code",
   "execution_count": null,
   "id": "4b4b7d79",
   "metadata": {},
   "outputs": [],
   "source": [
    "df_train_262_sale_train = df_train_262_sale[df_train_262_sale.index >= \"2014-07-01\"]\n",
    "print(len(df_train_262_sale_train))"
   ]
  },
  {
   "cell_type": "code",
   "execution_count": null,
   "id": "52da4459",
   "metadata": {},
   "outputs": [],
   "source": [
    "plt.figure(figsize=(60, 8))\n",
    "plt.plot(df_train_262_sale)\n",
    "plt.xlabel(\"Date\", fontsize=14)\n",
    "plt.ylabel(\"Sales\", fontsize=14)\n",
    "plt.xticks(rotation=90, fontsize=14)\n",
    "plt.yticks(fontsize=14)\n",
    "plt.show()"
   ]
  },
  {
   "cell_type": "code",
   "execution_count": null,
   "id": "ff1a0add",
   "metadata": {},
   "outputs": [],
   "source": [
    "utils.decomposed_plot(arima.decompose(df_train_262_sale, 'additive', m=31),\n",
    "                     figure_kwargs = {'figsize':(12,12)})"
   ]
  },
  {
   "cell_type": "code",
   "execution_count": null,
   "id": "d6333118",
   "metadata": {},
   "outputs": [],
   "source": [
    "# 階差の次数の検討\n",
    "print('d =', arima.ndiffs(df_train_262_sale)) #d（階差）\n",
    "print('D =', arima.nsdiffs(df_train_262_sale,m=365)) #D（季節階差）"
   ]
  },
  {
   "cell_type": "code",
   "execution_count": null,
   "id": "f67fe7f1",
   "metadata": {},
   "outputs": [],
   "source": [
    "# ADF検定（原系列）\n",
    "dftest = adfuller(df_train_262_sale)\n",
    "print('ADF Statistic: %f' % dftest[0])\n",
    "print('p-value: %f' % dftest[1])\n",
    "print('Critical values :')\n",
    "for k, v in dftest[4].items():\n",
    "    print('\\t', k, v)"
   ]
  },
  {
   "cell_type": "code",
   "execution_count": null,
   "id": "d3a6065d",
   "metadata": {},
   "outputs": [],
   "source": [
    "utils.decomposed_plot(arima.decompose(np.log(df_train_262_sale), 'additive', m=31),\n",
    "                     figure_kwargs = {'figsize':(12,12)})"
   ]
  },
  {
   "cell_type": "code",
   "execution_count": null,
   "id": "79f230be",
   "metadata": {},
   "outputs": [],
   "source": [
    "# ADF検定（原系列）\n",
    "dftest = adfuller(np.log(df_train_262_sale))\n",
    "print('ADF Statistic: %f' % dftest[0])\n",
    "print('p-value: %f' % dftest[1])\n",
    "print('Critical values :')\n",
    "for k, v in dftest[4].items():\n",
    "    print('\\t', k, v)"
   ]
  },
  {
   "cell_type": "code",
   "execution_count": null,
   "id": "88b2d743",
   "metadata": {},
   "outputs": [],
   "source": [
    "# 階差\n",
    "df_log_diff1 = df_train_262_sale.diff(1).dropna()\n",
    "plt.plot(df_log_diff1)"
   ]
  },
  {
   "cell_type": "code",
   "execution_count": null,
   "id": "600eb0ec",
   "metadata": {},
   "outputs": [],
   "source": [
    "# ADF検定\n",
    "dftest = adfuller(df_log_diff1)\n",
    "print('ADF Statistic: %f' % dftest[0])\n",
    "print('p-value: %f' % dftest[1])\n",
    "print('Critical values :')\n",
    "for k, v in dftest[4].items():\n",
    "    print('\\t', k, v)"
   ]
  },
  {
   "cell_type": "code",
   "execution_count": null,
   "id": "39958454",
   "metadata": {},
   "outputs": [],
   "source": [
    "# from statsmodels.tsa.stattools import adfuller\n",
    "\n",
    "\n",
    "# def my_adf(d):\n",
    "#     ps = [0.01,0.05]\n",
    "#     for reg in ['nc','c','ct','ctt']:\n",
    "#         adf,pvalue,usedlag,nobs,critical_values,icbest = adfuller(\n",
    "#             x = d,\n",
    "#             regression = reg,\n",
    "#             autolag = 'AIC'\n",
    "#         )\n",
    "#     ps.append(pvalue)\n",
    "\n",
    "#     return ps\n",
    "\n",
    "# fig,axs = plt.subplots(4,1)\n",
    "# #a1=1のケースの階差をとる\n",
    "# # data4 = pd.Series(data2).diff().dropna()\n",
    "# for ax,d in zip(axs,df_train_262_sale_train):\n",
    "#     ax.bar(height=my_adf(d),x='0.01,0.05,nc,c,ct,ctt'.split(','))"
   ]
  },
  {
   "cell_type": "code",
   "execution_count": null,
   "id": "f6784fea",
   "metadata": {},
   "outputs": [],
   "source": [
    "# データ分割（train:学習データ、test:テストデータ）\n",
    "train, test = model_selection.train_test_split(df_train_262_sale, test_size=31)\n",
    "\n",
    "# モデル構築（Auto ARIMA）\n",
    "arima_model = pm.auto_arima(train, \n",
    "                             seasonal=False,\n",
    "                             m=365,\n",
    "#                              d=1,\n",
    "#                              D=1,\n",
    "                             n_jobs=-1,\n",
    "                             maxiter=10)\n",
    "# グラフのサイズ変更\n",
    "plt.rcParams['figure.figsize'] = [12, 9]\n",
    "# 予測\n",
    "preds, conf_int = arima_model.predict(n_periods=test.shape[0], \n",
    "                                      return_conf_int=True)\n",
    "# 予測精度\n",
    "print('MAE:')\n",
    "print(mean_absolute_error(test, preds)) \n",
    "print('MAPE(%):')\n",
    "print(mean(abs(test - preds)/test) *100)\n",
    "# 予測と実測の比較（グラフ）\n",
    "x_axis = np.arange(preds.shape[0])\n",
    "plt.plot(x_axis,test,label=\"actual\",color='r') \n",
    "plt.plot(x_axis,preds,label=\"predicted\",color='b')\n",
    "plt.fill_between(x_axis[-preds.shape[0]:],\n",
    "                 conf_int[:, 0], conf_int[:, 1],\n",
    "                 alpha=0.1, color='b')\n",
    "plt.legend()\n",
    "plt.show()\n",
    "# グラフ（学習データとテストデータ、予測結果）\n",
    "x_axis = np.arange(train.shape[0] + preds.shape[0])\n",
    "plt.plot(x_axis[:train.shape[0]],train,color='r',label=\"actual\")\n",
    "plt.plot(x_axis[train.shape[0]:],test,color='r')\n",
    "plt.plot(x_axis[train.shape[0]:],preds,color='b',label=\"predicted\")\n",
    "plt.fill_between(x_axis[-preds.shape[0]:],\n",
    "                 conf_int[:, 0], conf_int[:, 1],\n",
    "                 alpha=0.1,color='b')\n",
    "plt.legend()\n",
    "plt.show()"
   ]
  },
  {
   "cell_type": "code",
   "execution_count": null,
   "id": "39df365e",
   "metadata": {},
   "outputs": [],
   "source": []
  },
  {
   "cell_type": "code",
   "execution_count": null,
   "id": "904c2fdc",
   "metadata": {},
   "outputs": [],
   "source": []
  },
  {
   "cell_type": "code",
   "execution_count": null,
   "id": "a30b6c2c",
   "metadata": {},
   "outputs": [],
   "source": []
  },
  {
   "cell_type": "code",
   "execution_count": null,
   "id": "1564ab5a",
   "metadata": {},
   "outputs": [],
   "source": []
  },
  {
   "cell_type": "code",
   "execution_count": null,
   "id": "12dcddee",
   "metadata": {},
   "outputs": [],
   "source": []
  },
  {
   "cell_type": "code",
   "execution_count": null,
   "id": "0cc101f3",
   "metadata": {},
   "outputs": [],
   "source": []
  },
  {
   "cell_type": "markdown",
   "id": "1da8c5ae",
   "metadata": {},
   "source": [
    "## Add Columns : Month"
   ]
  },
  {
   "cell_type": "code",
   "execution_count": null,
   "id": "e7a028d2",
   "metadata": {},
   "outputs": [],
   "source": []
  },
  {
   "cell_type": "code",
   "execution_count": null,
   "id": "50d94dee",
   "metadata": {},
   "outputs": [],
   "source": [
    "df_sum_month = df_train.groupby(by=['Month'])['Sales'].agg('sum')"
   ]
  },
  {
   "cell_type": "code",
   "execution_count": null,
   "id": "f4c761ef",
   "metadata": {},
   "outputs": [],
   "source": [
    "df_sum_month"
   ]
  },
  {
   "cell_type": "code",
   "execution_count": null,
   "id": "97c0bdb1",
   "metadata": {},
   "outputs": [],
   "source": [
    "plt.figure(figsize=(18, 8))\n",
    "plt.plot(df_sum_month)\n",
    "plt.xlabel(\"Date\", fontsize=14)\n",
    "plt.ylabel(\"Sales\", fontsize=14)\n",
    "plt.xticks(rotation=45, fontsize=14)\n",
    "plt.yticks(fontsize=14)\n",
    "plt.show()"
   ]
  },
  {
   "cell_type": "code",
   "execution_count": null,
   "id": "03ece625",
   "metadata": {},
   "outputs": [],
   "source": [
    "utils.decomposed_plot(arima.decompose(df_sum_month, 'additive', m=12),\n",
    "                     figure_kwargs = {'figsize':(12,12)})"
   ]
  },
  {
   "cell_type": "code",
   "execution_count": null,
   "id": "fc0ede1a",
   "metadata": {},
   "outputs": [],
   "source": []
  },
  {
   "cell_type": "code",
   "execution_count": null,
   "id": "d60ef8cb",
   "metadata": {},
   "outputs": [],
   "source": []
  },
  {
   "cell_type": "code",
   "execution_count": null,
   "id": "31dffef9",
   "metadata": {},
   "outputs": [],
   "source": []
  },
  {
   "cell_type": "code",
   "execution_count": null,
   "id": "5c5737ad",
   "metadata": {},
   "outputs": [],
   "source": []
  },
  {
   "cell_type": "code",
   "execution_count": null,
   "id": "540a8067",
   "metadata": {},
   "outputs": [],
   "source": []
  },
  {
   "cell_type": "code",
   "execution_count": null,
   "id": "0d0f72c0",
   "metadata": {},
   "outputs": [],
   "source": []
  },
  {
   "cell_type": "code",
   "execution_count": null,
   "id": "866e52cf",
   "metadata": {},
   "outputs": [],
   "source": [
    "plt.plot(df['Value (kWh)'])"
   ]
  },
  {
   "cell_type": "code",
   "execution_count": null,
   "id": "aa4e4abe",
   "metadata": {},
   "outputs": [],
   "source": [
    "model = ARIMA(df['Value (kWh)'], order=(1,1,1))\n",
    "model_fit = model.fit()\n",
    "print(model_fit.summary())"
   ]
  },
  {
   "cell_type": "code",
   "execution_count": null,
   "id": "1fcdc3d1",
   "metadata": {},
   "outputs": [],
   "source": [
    "# Plotting residual errors\n",
    "residuals = pd.DataFrame(model_fit.resid)\n",
    "plt.figure(figsize=(18, 8))\n",
    "plt.plot(residuals)\n",
    "plt.title('Residuals', fontsize=16)\n",
    "plt.xlabel(\"Date\", fontsize=14)\n",
    "plt.ylabel(\"Amount of residuals\", fontsize=14)\n",
    "plt.xticks(np.arange(0, len(df.StartDate)+1, 45), labels=[df.StartDate[i] for i in range(0, len(df.StartDate)+1, 45)], rotation=45, fontsize=14)\n",
    "plt.yticks(fontsize=14)\n",
    "plt.show()"
   ]
  },
  {
   "cell_type": "code",
   "execution_count": null,
   "id": "8c804156",
   "metadata": {},
   "outputs": [],
   "source": [
    "train = df['meantemp'][:int(np.floor((len(df)/100)*70))]\n",
    "test = df['meantemp'][int(np.floor((len(df)/100)*70)):]\n",
    "\n",
    "model = ARIMA(train, order=(3, 2, 1))  \n",
    "fitted = model.fit()  \n",
    "\n",
    "fc = fitted.get_forecast(len(df['meantemp'][int(np.floor((len(df)/100)*70)):]))  \n",
    "conf = fc.conf_int(alpha=0.05) # 95% confidence\n",
    "\n",
    "fc_series = pd.Series(fc.predicted_mean, index=test.index)\n",
    "lower_series = pd.Series(conf.iloc[:, 0], index=test.index)\n",
    "upper_series = pd.Series(conf.iloc[:, 1], index=test.index)\n",
    "\n",
    "# Plot\n",
    "plt.figure(figsize=(12,5), dpi=200)\n",
    "plt.plot(train, label='training')\n",
    "plt.plot(test, label='actual')\n",
    "plt.plot(fc_series, label='forecast')\n",
    "plt.fill_between(lower_series.index, lower_series, upper_series, \n",
    "                 color='k', alpha=.15)\n",
    "plt.title('Forecast vs Actuals')\n",
    "plt.legend(loc='upper left', fontsize=8)\n",
    "plt.show()\n"
   ]
  },
  {
   "cell_type": "code",
   "execution_count": null,
   "id": "f64eef3e",
   "metadata": {},
   "outputs": [],
   "source": [
    "# グラフのサイズ変更\n",
    "plt.rcParams['figure.figsize'] = [12, 3]\n",
    "# 自己相関と偏自己相関\n",
    "utils.plot_acf(df.meantemp, alpha=.05)\n",
    "utils.plot_pacf(df.meantemp, alpha=.05)\n",
    " "
   ]
  },
  {
   "cell_type": "code",
   "execution_count": null,
   "id": "2b39432d",
   "metadata": {},
   "outputs": [],
   "source": [
    "# 階差の次数の検討\n",
    "print('d =', arima.ndiffs(data)) #d（階差）\n",
    "print('D =', arima.nsdiffs(data,m=12)) #D（季節階差）\n"
   ]
  },
  {
   "cell_type": "code",
   "execution_count": null,
   "id": "3fa513d2",
   "metadata": {},
   "outputs": [],
   "source": [
    "# 通常の階差処理を1回しさらに季節階差処理を1回\n",
    "data_d1_d12 = pd.DataFrame(data).diff(1).diff(12).dropna()"
   ]
  },
  {
   "cell_type": "code",
   "execution_count": null,
   "id": "374188bb",
   "metadata": {},
   "outputs": [],
   "source": [
    "data_d1_d12"
   ]
  },
  {
   "cell_type": "code",
   "execution_count": null,
   "id": "1905223f",
   "metadata": {},
   "outputs": [],
   "source": [
    "# データ分割（train:学習データ、test:テストデータ）\n",
    "train, test = model_selection.train_test_split(data, train_size=132)"
   ]
  },
  {
   "cell_type": "code",
   "execution_count": null,
   "id": "3734f33c",
   "metadata": {},
   "outputs": [],
   "source": [
    "# モデル構築（Auto ARIMA）\n",
    "arima_model = pm.auto_arima(train, \n",
    "                            seasonal=True,\n",
    "                            m=12,\n",
    "                            trace=True,\n",
    "                            n_jobs=-1,\n",
    "                            maxiter=10)"
   ]
  },
  {
   "cell_type": "code",
   "execution_count": null,
   "id": "0455de16",
   "metadata": {},
   "outputs": [],
   "source": [
    "# グラフのサイズ変更\n",
    "plt.rcParams['figure.figsize'] = [12, 9]\n",
    "# 予測\n",
    "preds, conf_int = arima_model.predict(n_periods=test.shape[0], \n",
    "                                      return_conf_int=True)\n",
    "# 予測精度\n",
    "print('MAE:')\n",
    "print(mean_absolute_error(test, preds)) \n",
    "print('MAPE(%):')\n",
    "print(mean(abs(test - preds)/test) *100)\n",
    "# 予測と実測の比較（グラフ）\n",
    "x_axis = np.arange(preds.shape[0])\n",
    "plt.plot(x_axis,test,label=\"actual\",color='r') \n",
    "plt.plot(x_axis,preds,label=\"predicted\",color='b')\n",
    "plt.fill_between(x_axis[-preds.shape[0]:],\n",
    "                 conf_int[:, 0], conf_int[:, 1],\n",
    "                 alpha=0.1, color='b')\n",
    "plt.legend()\n",
    "plt.show()\n",
    " "
   ]
  },
  {
   "cell_type": "code",
   "execution_count": null,
   "id": "36d3a39d",
   "metadata": {},
   "outputs": [],
   "source": [
    "# グラフ（学習データとテストデータ、予測結果）\n",
    "x_axis = np.arange(train.shape[0] + preds.shape[0])\n",
    "plt.plot(x_axis[:train.shape[0]],train,color='r',label=\"actual\")\n",
    "plt.plot(x_axis[train.shape[0]:],test,color='r')\n",
    "plt.plot(x_axis[train.shape[0]:],preds,color='b',label=\"predicted\")\n",
    "plt.fill_between(x_axis[-preds.shape[0]:],\n",
    "                 conf_int[:, 0], conf_int[:, 1],\n",
    "                 alpha=0.1,color='b')\n",
    "plt.legend()\n",
    "plt.show()\n",
    " "
   ]
  },
  {
   "cell_type": "code",
   "execution_count": null,
   "id": "9615b7f2",
   "metadata": {},
   "outputs": [],
   "source": [
    "# モデル構築（Auto ARIMA）\n",
    "arima_model = pm.auto_arima(train, \n",
    "                             seasonal=True,\n",
    "                             m=12,\n",
    "                             d=1,\n",
    "                             D=1,\n",
    "                             n_jobs=-1,\n",
    "                             maxiter=10)\n",
    "# グラフのサイズ変更\n",
    "plt.rcParams['figure.figsize'] = [12, 9]\n",
    "# 予測\n",
    "preds, conf_int = arima_model.predict(n_periods=test.shape[0], \n",
    "                                      return_conf_int=True)\n",
    "# 予測精度\n",
    "print('MAE:')\n",
    "print(mean_absolute_error(test, preds)) \n",
    "print('MAPE(%):')\n",
    "print(mean(abs(test - preds)/test) *100)\n",
    "# 予測と実測の比較（グラフ）\n",
    "x_axis = np.arange(preds.shape[0])\n",
    "plt.plot(x_axis,test,label=\"actual\",color='r') \n",
    "plt.plot(x_axis,preds,label=\"predicted\",color='b')\n",
    "plt.fill_between(x_axis[-preds.shape[0]:],\n",
    "                 conf_int[:, 0], conf_int[:, 1],\n",
    "                 alpha=0.1, color='b')\n",
    "plt.legend()\n",
    "plt.show()\n",
    "# グラフ（学習データとテストデータ、予測結果）\n",
    "x_axis = np.arange(train.shape[0] + preds.shape[0])\n",
    "plt.plot(x_axis[:train.shape[0]],train,color='r',label=\"actual\")\n",
    "plt.plot(x_axis[train.shape[0]:],test,color='r')\n",
    "plt.plot(x_axis[train.shape[0]:],preds,color='b',label=\"predicted\")\n",
    "plt.fill_between(x_axis[-preds.shape[0]:],\n",
    "                 conf_int[:, 0], conf_int[:, 1],\n",
    "                 alpha=0.1,color='b')\n",
    "plt.legend()\n",
    "plt.show()"
   ]
  },
  {
   "cell_type": "code",
   "execution_count": null,
   "id": "02269bd2",
   "metadata": {},
   "outputs": [],
   "source": []
  }
 ],
 "metadata": {
  "kernelspec": {
   "display_name": "Python 3",
   "language": "python",
   "name": "python3"
  },
  "language_info": {
   "codemirror_mode": {
    "name": "ipython",
    "version": 3
   },
   "file_extension": ".py",
   "mimetype": "text/x-python",
   "name": "python",
   "nbconvert_exporter": "python",
   "pygments_lexer": "ipython3",
   "version": "3.8.10"
  },
  "toc": {
   "base_numbering": 1,
   "nav_menu": {},
   "number_sections": true,
   "sideBar": true,
   "skip_h1_title": false,
   "title_cell": "Table of Contents",
   "title_sidebar": "Contents",
   "toc_cell": false,
   "toc_position": {},
   "toc_section_display": true,
   "toc_window_display": true
  },
  "varInspector": {
   "cols": {
    "lenName": 16,
    "lenType": 16,
    "lenVar": 40
   },
   "kernels_config": {
    "python": {
     "delete_cmd_postfix": "",
     "delete_cmd_prefix": "del ",
     "library": "var_list.py",
     "varRefreshCmd": "print(var_dic_list())"
    },
    "r": {
     "delete_cmd_postfix": ") ",
     "delete_cmd_prefix": "rm(",
     "library": "var_list.r",
     "varRefreshCmd": "cat(var_dic_list()) "
    }
   },
   "types_to_exclude": [
    "module",
    "function",
    "builtin_function_or_method",
    "instance",
    "_Feature"
   ],
   "window_display": false
  }
 },
 "nbformat": 4,
 "nbformat_minor": 5
}
